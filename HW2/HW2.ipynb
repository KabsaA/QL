{
 "cells": [
  {
   "cell_type": "code",
   "execution_count": 1,
   "metadata": {},
   "outputs": [],
   "source": [
    "spam = {\n",
    "    \"password\": 2,\n",
    "    \"review\": 1,\n",
    "    \"send\": 3,\n",
    "    \"us\": 3,\n",
    "    \"your\": 3,\n",
    "    \"account\": 1\n",
    "}"
   ]
  },
  {
   "cell_type": "code",
   "execution_count": 2,
   "metadata": {},
   "outputs": [
    {
     "name": "stdout",
     "output_type": "stream",
     "text": [
      "0.15384615384615385\n"
     ]
    }
   ],
   "source": [
    "p_password_given_spam = spam['password']/sum(spam.values())\n",
    "print(p_password_given_spam)"
   ]
  },
  {
   "cell_type": "code",
   "execution_count": 3,
   "metadata": {},
   "outputs": [],
   "source": [
    "ham = {\n",
    "    \"password\": 1,\n",
    "    \"review\": 2,\n",
    "    \"send\": 1,\n",
    "    \"us\": 1,\n",
    "    \"your\": 2,\n",
    "    \"account\": 0\n",
    "}"
   ]
  },
  {
   "cell_type": "code",
   "execution_count": 4,
   "metadata": {},
   "outputs": [
    {
     "name": "stdout",
     "output_type": "stream",
     "text": [
      "0.14285714285714285\n"
     ]
    }
   ],
   "source": [
    "p_password_given_ham = ham['password']/sum(ham.values())\n",
    "print(p_password_given_ham)"
   ]
  },
  {
   "cell_type": "code",
   "execution_count": 5,
   "metadata": {},
   "outputs": [
    {
     "name": "stdout",
     "output_type": "stream",
     "text": [
      "0.15018315018315018\n",
      "0.6829268292682927\n"
     ]
    }
   ],
   "source": [
    "p_spam = 4/6\n",
    "p_ham = 2/6\n",
    "p_password = p_password_given_spam*p_spam + p_password_given_ham*p_ham \n",
    "print(p_password)\n",
    "p_spam_given_password = p_password_given_spam*p_spam/p_password\n",
    "print(p_spam_given_password)"
   ]
  },
  {
   "cell_type": "code",
   "execution_count": 29,
   "metadata": {},
   "outputs": [
    {
     "name": "stdout",
     "output_type": "stream",
     "text": [
      "password Spam: 0.6829268292682927 Ham: 0.3170731707317073\n",
      "review Spam: 0.35000000000000003 Ham: 0.65\n",
      "send Spam: 0.7636363636363637 Ham: 0.23636363636363633\n",
      "us Spam: 0.7636363636363637 Ham: 0.23636363636363633\n",
      "your Spam: 0.6176470588235294 Ham: 0.38235294117647056\n",
      "account Spam: 1.0 Ham: 0.0\n"
     ]
    }
   ],
   "source": [
    "p_spam = 4/6\n",
    "p_ham = 2/6\n",
    "ls1 = []\n",
    "ls2 = []\n",
    "\n",
    "for i in spam:\n",
    "    # obtain the probability of each word by assuming the email is spam\n",
    "    spamProb = (spam[i]) / (sum(spam.values()))   \n",
    "    # obtain the probability of each word by assuming the email is ham \n",
    "    hamProb = (ham[i]) / (sum(ham.values()))   \n",
    "    email = (spamProb * p_spam) + (hamProb * p_ham)\n",
    "    # obtain the probability that for a seen word it belongs to spam email\n",
    "    seenSpam = (spamProb * p_spam) / email\n",
    "    # obtain the probability that for a seen word it belongs to ham email\n",
    "    seenHam = (hamProb * p_ham) / email\n",
    "    print(str(i) + \" Spam: \" + str(seenSpam) + \" Ham: \" + str(seenHam))\n",
    "    "
   ]
  },
  {
   "cell_type": "code",
   "execution_count": null,
   "metadata": {},
   "outputs": [],
   "source": []
  },
  {
   "cell_type": "code",
   "execution_count": null,
   "metadata": {},
   "outputs": [],
   "source": []
  }
 ],
 "metadata": {
  "kernelspec": {
   "display_name": "Python 3",
   "language": "python",
   "name": "python3"
  },
  "language_info": {
   "codemirror_mode": {
    "name": "ipython",
    "version": 3
   },
   "file_extension": ".py",
   "mimetype": "text/x-python",
   "name": "python",
   "nbconvert_exporter": "python",
   "pygments_lexer": "ipython3",
   "version": "3.7.6"
  }
 },
 "nbformat": 4,
 "nbformat_minor": 4
}
